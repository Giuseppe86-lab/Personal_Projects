{
 "cells": [
  {
   "cell_type": "markdown",
   "id": "43af08d4-4117-4097-8aa9-d4bc91be88ac",
   "metadata": {},
   "source": [
    "Certo! Creare un software in Python per generare l'orario dei docenti di un liceo è un progetto complesso ma realizzabile. Il software deve prendere in considerazione vari fattori come il numero di classi, i docenti disponibili, le materie insegnate, i vincoli di orario (ad esempio, ore di lezione preferite o indisponibilità), e cercare di bilanciare equamente l'orario di tutti.\n",
    "\n",
    "Ti guiderò attraverso i passaggi fondamentali per creare un software del genere.\n",
    "\n",
    "1. Definizione dei dati\n",
    "Prima di iniziare a scrivere il codice, è importante definire chiaramente i dati necessari:\n",
    "\n",
    "Docenti: Nome, materie insegnate, numero massimo di ore settimanali, disponibilità oraria.\n",
    "Classi: Nome della classe (es. 1A, 2B), materie assegnate, numero di ore settimanali per materia.\n",
    "Orari: Le ore disponibili per le lezioni (es. 8:00-9:00, 9:00-10:00, etc.).\n",
    "2. Struttura del Software\n",
    "Il software potrebbe essere strutturato nei seguenti moduli:\n",
    "\n",
    "Input dei dati: Raccoglie e gestisce i dati relativi a docenti, classi e orari.\n",
    "Generazione dell'orario: Un algoritmo che assegna le lezioni ai diversi slot orari tenendo conto delle disponibilità e dei vincoli.\n",
    "Verifica dei vincoli: Assicura che l'orario generato rispetti tutte le regole (es. non sovrapporre due lezioni dello stesso docente).\n",
    "Output: Genera l'orario finale in un formato leggibile (es. tabella).\n",
    "3. Implementazione\n",
    "Di seguito uno schema di base per iniziare a lavorare sul software.\n",
    "\n",
    "a) Definizione delle classi"
   ]
  },
  {
   "cell_type": "code",
   "execution_count": null,
   "id": "54a295ab-cdcc-4694-9745-5e991927fe96",
   "metadata": {},
   "outputs": [],
   "source": [
    "class Docente:\n",
    "    def __init__(self, nome, materie, max_ore, disponibilita):\n",
    "        self.nome = nome\n",
    "        self.materie = materie\n",
    "        self.max_ore = max_ore\n",
    "        self.disponibilita = disponibilita\n",
    "        self.ore_associate = 0\n",
    "\n",
    "class Classe:\n",
    "    def __init__(self, nome, materie_assegnate):\n",
    "        self.nome = nome\n",
    "        self.materie_assegnate = materie_assegnate\n",
    "        self.orario = {}\n",
    "\n",
    "class Orario:\n",
    "    def __init__(self, docenti, classi, slot_orari):\n",
    "        self.docenti = docenti\n",
    "        self.classi = classi\n",
    "        self.slot_orari = slot_orari\n",
    "        self.orario_generato = {}\n",
    "\n",
    "    def genera_orario(self):\n",
    "        # Algoritmo per assegnare le lezioni\n",
    "        pass\n",
    "\n",
    "    def verifica_vincoli(self):\n",
    "        # Verifica dei vincoli\n",
    "        pass\n",
    "\n",
    "    def output(self):\n",
    "        # Generazione output\n",
    "        pass\n"
   ]
  },
  {
   "cell_type": "markdown",
   "id": "de02e887-0c02-45ef-9365-2ce83406c6a2",
   "metadata": {},
   "source": [
    "b) Algoritmo per generare l’orario\n",
    "Per generare l’orario si può usare un algoritmo greedy o uno più complesso come un algoritmo genetico, a seconda delle necessità."
   ]
  },
  {
   "cell_type": "code",
   "execution_count": null,
   "id": "b0d0b54f-3d0d-4e0b-9e4a-df5c16268545",
   "metadata": {},
   "outputs": [],
   "source": [
    "import random\n",
    "\n",
    "class Orario:\n",
    "    # ...\n",
    "\n",
    "    def genera_orario(self):\n",
    "        for classe in self.classi:\n",
    "            for materia, ore in classe.materie_assegnate.items():\n",
    "                for _ in range(ore):\n",
    "                    docente = self.trova_docente(materia)\n",
    "                    if docente and docente.ore_associate < docente.max_ore:\n",
    "                        slot = self.trova_slot_libero(classe, docente)\n",
    "                        if slot:\n",
    "                            self.orario_generato[(classe.nome, slot)] = (materia, docente.nome)\n",
    "                            docente.ore_associate += 1\n",
    "\n",
    "    def trova_docente(self, materia):\n",
    "        docenti_possibili = [docente for docente in self.docenti if materia in docente.materie]\n",
    "        return random.choice(docenti_possibili) if docenti_possibili else None\n",
    "\n",
    "    def trova_slot_libero(self, classe, docente):\n",
    "        # Trova uno slot libero considerando le disponibilità\n",
    "        pass\n"
   ]
  },
  {
   "cell_type": "markdown",
   "id": "7354be82-b11f-4c32-9f27-ce7d8b781a47",
   "metadata": {},
   "source": [
    "c) Verifica dei vincoli"
   ]
  },
  {
   "cell_type": "code",
   "execution_count": null,
   "id": "334e105b-5cfe-44d4-8501-2131ecfd9f6a",
   "metadata": {},
   "outputs": [],
   "source": [
    "def verifica_vincoli(self):\n",
    "    # Controlla che ogni docente non abbia sovrapposizioni o ore extra\n",
    "    # Controlla che ogni classe abbia tutte le lezioni necessarie\n",
    "    pass\n"
   ]
  },
  {
   "cell_type": "markdown",
   "id": "4eb73710-b25a-4257-a131-2bf9a56c0571",
   "metadata": {},
   "source": [
    "d) Output dell’orario"
   ]
  },
  {
   "cell_type": "code",
   "execution_count": null,
   "id": "0e738611-38b9-4fff-8170-fc93cd773a51",
   "metadata": {},
   "outputs": [],
   "source": [
    "def output(self):\n",
    "    for chiave, valore in self.orario_generato.items():\n",
    "        classe, slot = chiave\n",
    "        materia, docente = valore\n",
    "        print(f\"Classe {classe} - Slot {slot}: {materia} con {docente}\")\n"
   ]
  },
  {
   "cell_type": "markdown",
   "id": "ea3ba306-c967-4c45-814c-cbc944fac1bd",
   "metadata": {},
   "source": [
    "4. Test e Miglioramenti\n",
    "Una volta implementata la versione base, puoi testare il software con dati fittizi e poi aggiungere funzioni più avanzate, come la possibilità di modificare l’orario manualmente o l’esportazione in formato Excel.\n",
    "\n",
    "Questo è solo un punto di partenza. Creare un orario scolastico perfetto è una sfida e richiede affinamenti continui, ma con queste basi puoi iniziare a sviluppare una soluzione funzionante. Se hai domande specifiche o vuoi approfondire qualche parte, sono qui per aiutarti!\n",
    "\n",
    "\n",
    "\n",
    "\n",
    "\n",
    "\n",
    "You said:\n",
    "Vorrei aggiungere anche una gui\n",
    "ChatGPT said:\n",
    "ChatGPT\n",
    "Aggiungere una GUI (Graphical User Interface) al software rende l'applicazione più user-friendly e accessibile per gli utenti. In Python, uno dei toolkit più popolari per creare GUI è Tkinter. Ti mostrerò come integrare una GUI di base nel software per la creazione dell'orario.\n",
    "\n",
    "1. Impostare l’ambiente\n",
    "Assicurati di avere installato Tkinter. Nella maggior parte delle distribuzioni Python, Tkinter è già incluso. Puoi verificarlo eseguendo il seguente comando:"
   ]
  },
  {
   "cell_type": "code",
   "execution_count": null,
   "id": "1529574f-0af9-49b1-aa80-8acd03fd19cf",
   "metadata": {},
   "outputs": [],
   "source": [
    "python -m tkinter\n"
   ]
  },
  {
   "cell_type": "markdown",
   "id": "ab308861-035d-4b4a-b993-80392c32d91d",
   "metadata": {},
   "source": [
    "Se non è installato, puoi aggiungerlo tramite pip su alcune piattaforme:"
   ]
  },
  {
   "cell_type": "code",
   "execution_count": null,
   "id": "e68c43b8-b94a-4640-a616-7514616d17d3",
   "metadata": {},
   "outputs": [],
   "source": [
    "pip install python-tk\n"
   ]
  },
  {
   "cell_type": "markdown",
   "id": "be937fd0-9f71-40d3-97c1-12aad6a44d86",
   "metadata": {},
   "source": [
    "2. Progettare la GUI\n",
    "La GUI dovrà permettere di:\n",
    "\n",
    "Inserire i dati dei docenti e delle classi.\n",
    "Visualizzare l’orario generato.\n",
    "Eventualmente modificare i dati e rigenerare l’orario.\n",
    "3. Codice Python con Tkinter\n",
    "Ti fornirò un esempio di base per una GUI che ti consente di inserire i docenti e visualizzare l'orario.\n",
    "\n",
    "a) Struttura del codice"
   ]
  },
  {
   "cell_type": "code",
   "execution_count": null,
   "id": "060fdd5b-29de-4f13-94bb-ef95fba46484",
   "metadata": {},
   "outputs": [],
   "source": [
    "import tkinter as tk\n",
    "from tkinter import messagebox\n",
    "\n",
    "class GUI:\n",
    "    def __init__(self, root):\n",
    "        self.root = root\n",
    "        self.root.title(\"Generatore Orario Liceo\")\n",
    "        \n",
    "        # Frame per inserimento dati docente\n",
    "        self.frame_docente = tk.Frame(root)\n",
    "        self.frame_docente.pack(pady=10)\n",
    "\n",
    "        tk.Label(self.frame_docente, text=\"Nome Docente:\").grid(row=0, column=0)\n",
    "        self.nome_docente = tk.Entry(self.frame_docente)\n",
    "        self.nome_docente.grid(row=0, column=1)\n",
    "\n",
    "        tk.Label(self.frame_docente, text=\"Materie (separate da virgola):\").grid(row=1, column=0)\n",
    "        self.materie_docente = tk.Entry(self.frame_docente)\n",
    "        self.materie_docente.grid(row=1, column=1)\n",
    "\n",
    "        tk.Label(self.frame_docente, text=\"Max Ore Settimana:\").grid(row=2, column=0)\n",
    "        self.max_ore_docente = tk.Entry(self.frame_docente)\n",
    "        self.max_ore_docente.grid(row=2, column=1)\n",
    "\n",
    "        tk.Button(self.frame_docente, text=\"Aggiungi Docente\", command=self.aggiungi_docente).grid(row=3, columnspan=2, pady=5)\n",
    "\n",
    "        # Lista dei docenti\n",
    "        self.docenti = []\n",
    "        self.lista_docenti = tk.Listbox(root, width=50, height=10)\n",
    "        self.lista_docenti.pack(pady=10)\n",
    "\n",
    "        # Bottone per generare l'orario\n",
    "        tk.Button(root, text=\"Genera Orario\", command=self.genera_orario).pack(pady=10)\n",
    "\n",
    "        # Visualizzazione dell'orario\n",
    "        self.orario_output = tk.Text(root, width=50, height=10)\n",
    "        self.orario_output.pack(pady=10)\n",
    "\n",
    "    def aggiungi_docente(self):\n",
    "        nome = self.nome_docente.get()\n",
    "        materie = self.materie_docente.get().split(',')\n",
    "        max_ore = int(self.max_ore_docente.get())\n",
    "\n",
    "        docente = Docente(nome, materie, max_ore, [])\n",
    "        self.docenti.append(docente)\n",
    "        \n",
    "        self.lista_docenti.insert(tk.END, f\"{nome} - Materie: {', '.join(materie)} - Max Ore: {max_ore}\")\n",
    "        \n",
    "        self.nome_docente.delete(0, tk.END)\n",
    "        self.materie_docente.delete(0, tk.END)\n",
    "        self.max_ore_docente.delete(0, tk.END)\n",
    "\n",
    "    def genera_orario(self):\n",
    "        orario = Orario(self.docenti, [], [\"8:00-9:00\", \"9:00-10:00\", \"10:00-11:00\"])\n",
    "        orario.genera_orario()\n",
    "        \n",
    "        self.orario_output.delete(1.0, tk.END)\n",
    "        for chiave, valore in orario.orario_generato.items():\n",
    "            classe, slot = chiave\n",
    "            materia, docente = valore\n",
    "            self.orario_output.insert(tk.END, f\"Classe {classe} - Slot {slot}: {materia} con {docente}\\n\")\n",
    "\n",
    "class Docente:\n",
    "    def __init__(self, nome, materie, max_ore, disponibilita):\n",
    "        self.nome = nome\n",
    "        self.materie = materie\n",
    "        self.max_ore = max_ore\n",
    "        self.disponibilita = disponibilita\n",
    "        self.ore_associate = 0\n",
    "\n",
    "class Orario:\n",
    "    def __init__(self, docenti, classi, slot_orari):\n",
    "        self.docenti = docenti\n",
    "        self.classi = classi\n",
    "        self.slot_orari = slot_orari\n",
    "        self.orario_generato = {}\n",
    "\n",
    "    def genera_orario(self):\n",
    "        for classe in [\"1A\", \"2B\"]:  # Dati fittizi delle classi\n",
    "            for materia in [\"Matematica\", \"Italiano\"]:  # Dati fittizi delle materie\n",
    "                docente = self.trova_docente(materia)\n",
    "                if docente and docente.ore_associate < docente.max_ore:\n",
    "                    slot = random.choice(self.slot_orari)\n",
    "                    self.orario_generato[(classe, slot)] = (materia, docente.nome)\n",
    "                    docente.ore_associate += 1\n",
    "\n",
    "    def trova_docente(self, materia):\n",
    "        docenti_possibili = [docente for docente in self.docenti if materia in docente.materie]\n",
    "        return random.choice(docenti_possibili) if docenti_possibili else None\n",
    "\n",
    "# Inizializza la finestra Tkinter\n",
    "root = tk.Tk()\n",
    "gui = GUI(root)\n",
    "root.mainloop()\n"
   ]
  },
  {
   "cell_type": "markdown",
   "id": "d3da5b36-8c9e-408c-a8f8-911a02cd244d",
   "metadata": {},
   "source": [
    "4. Spiegazione del Codice\n",
    "Classe GUI: Questa classe gestisce l'interfaccia utente. Abbiamo un frame per l'inserimento dei dati dei docenti, una lista che mostra i docenti aggiunti, un pulsante per generare l'orario e una casella di testo per visualizzare l'orario generato.\n",
    "Classe Docente: Rappresenta i dati di un docente, come nome, materie, e disponibilità.\n",
    "Classe Orario: Contiene l'algoritmo per generare l'orario. In questo esempio, genera orari fittizi per dimostrare la funzionalità.\n",
    "5. Esecuzione\n",
    "Quando esegui questo script, apparirà una finestra GUI. Puoi inserire i docenti, visualizzarli nella lista e cliccare su \"Genera Orario\" per vedere un orario di esempio.\n",
    "\n",
    "6. Estensioni e Miglioramenti\n",
    "Input Classi e Materie: Aggiungi sezioni per inserire classi e materie.\n",
    "Salvataggio e Caricamento: Permetti di salvare e caricare i dati da file.\n",
    "Migliore Algoritmo di Generazione: Sostituisci l'algoritmo fittizio con uno più complesso che tenga conto delle preferenze di docenti e classi.\n",
    "Esportazione: Aggiungi un'opzione per esportare l'orario in formato Excel o PDF.\n",
    "Questo codice rappresenta solo un punto di partenza. Da qui, puoi continuare a sviluppare e migliorare l'applicazione secondo le tue esigenze. Se hai ulteriori domande o hai bisogno di più dettagli, non esitare a chiedere!"
   ]
  },
  {
   "cell_type": "code",
   "execution_count": null,
   "id": "3640898d-5cc8-45d4-aa15-6d2d8c2b61f0",
   "metadata": {},
   "outputs": [],
   "source": []
  }
 ],
 "metadata": {
  "kernelspec": {
   "display_name": "Python 3 (ipykernel)",
   "language": "python",
   "name": "python3"
  },
  "language_info": {
   "codemirror_mode": {
    "name": "ipython",
    "version": 3
   },
   "file_extension": ".py",
   "mimetype": "text/x-python",
   "name": "python",
   "nbconvert_exporter": "python",
   "pygments_lexer": "ipython3",
   "version": "3.12.2"
  }
 },
 "nbformat": 4,
 "nbformat_minor": 5
}
